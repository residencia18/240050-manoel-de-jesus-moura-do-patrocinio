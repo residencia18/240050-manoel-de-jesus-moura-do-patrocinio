{
 "cells": [
  {
   "cell_type": "markdown",
   "metadata": {},
   "source": [
    "# Segunda Avaliação Parcial\n",
    "\n",
    "Neste módulo trabalhamos a visualização de dados, assim como as técnicas para acessar estes dados da internet. As técnicas de web scraping que estudamos, usando __Requests__, __Beautiful Soup__ e __Selenium__, permitem implementar aplicações que processam informação diretamente da rede.  \n",
    "\n",
    "Desde a Instrução prática 7, por exemplo, estamos trabalhando com dados que baixamos do [Instituto Nacional de Meteorologia](https://portal.inmet.gov.br/dadoshistoricos).  \n",
    "\n",
    "Aprendemos também como implementar uma aplicação com GUI utilizando o __TK Inter__. \n",
    "\n",
    "Neste contexto vamos implementar uma aplicação que, a traves de uma GUI, permita gerar gráficos de precipitações e temperaturas medias mensais de um determinado ano, para uma estação meteorológica. A atividade deve ser organizada da seguinte forma."
   ]
  },
  {
   "cell_type": "markdown",
   "metadata": {},
   "source": [
    "## Exercício 1\n",
    "\n",
    "__Primeiro protótipo__: Desenvolva uma interface gráfica que pegue, em tempo real, as informações sobre os dados de quais anos estão disponíveis no site do [Instituto Nacional de Meteorologia](https://portal.inmet.gov.br/dadoshistoricos). Os anos disponíveis devem ser apresentados utilizando um widget apropriado que permita selecionar um, e apenas um ano. Se não tiver conexão a Internet ou se o site não estiver disponível o aplicativo deve mostrar uma mensagem de erro na interface.\n"
   ]
  },
  {
   "cell_type": "markdown",
   "metadata": {},
   "source": [
    "## Exercício 2\n",
    "\n",
    "__Segundo protótipo__: Com base no ano escolhido sua aplicação deve baixar o arquivo compactado, com os dados de todas as estações, descompactar ele numa pasta temporária e mostrar em um outro widget a lista de estações disponíveis para selecionar uma e apenas uma delas. O widget do protótipo anterior deve ficar disponível para que o usuário possa trocar o ano se desejar. Nesse caso um novo arquivo será baixado e descompactado e as estações disponíveis exibidas para seleção."
   ]
  },
  {
   "cell_type": "markdown",
   "metadata": {},
   "source": [
    "# Exercício 3\n",
    "\n",
    "__Terceiro protótipo__: Com base na estação selecionada gere e exiba dentro da aplicação os gráficos de precipitações e temperaturas medias mensais para a estação selecionada. A interface deve permitir que o usuário troque a estação selecionada a qualquer momento, assim como foi feito co o ano, gerando novos gráficos.   "
   ]
  },
  {
   "cell_type": "markdown",
   "metadata": {},
   "source": [
    "## Respostas\n",
    "\n",
    "Implemente sua aplicação como um pacote __Python__ e disponibilize neste __Notebook__ um explicação dos principais pontos da implementação. Utilize o comando mágico ``%run`` para executar o aplicativo desenvolvido.  Envie o __Notebook__ via __Moodle__ assim como o repositório com a implementação do aplicativo até o final do prazo. "
   ]
  },
  {
   "cell_type": "markdown",
   "metadata": {},
   "source": [
    "\n",
    "## FLUXO DE EXECUÇÃO \n",
    "\n",
    "Tem o intuito de mostrar  ao usuário a ordem que o script roda.\n",
    "\n",
    "1º  É executado a função main().\n",
    "\n",
    "2º  A função main() estancia a classe Estacões,  e executa o método requisicaoDeDados(), que irá usar o webdriver do Selenium para acessar o site do inmet em busca do anos de dados históricos e retornar um dicionário onde a chave é o ano e o valor o link para o arquivo .zip. \n",
    "\n",
    "3º  A tela principal inicia o script, onde chama o widgests e a função 'ano_selecionado', ela começa a chamar todas as outras funções mencionadas acima para que o script comece a roda\n",
    "\n",
    "4º Os Widgests(), recebem os valores das funções para exibirem a tela para o usuário, onde  podem selecionar ano, estação do ano e gerar gráficos   da média e acumulo de precipitações, com base nos dados extraídos da Url fornecida. Foi feita a configuração para deixar mas intuitiva ao usuário.\n",
    "\n",
    "5º  A função DataFrame(), usar a biblioteca ‘requests‘,para baixar  o arquivo zip da url fornecida que contem os dados as estações meteorológicas, extraindo o conteúdo para uma pasta específica do sistema. Retorna um dicionário contendo o nome dos arquivos descompactados e seus caminhos completos como valores.\n",
    "\n",
    "6° Função CalcTempMediaCSV(self, arquivoURL) ler o arquivo CSV baixado, após isso, trata os dados obtidos e calcula à média da temperatura máxima de cada mês. \n",
    "\n",
    "7° Função CalcMediaPreciptacaoCSV(self, arquivoURL) ler o arquivo CSV baixado, após isso, trata os dados obtidos, faz a soma das precipitações e retorna o acúmulo das precipitações.\n",
    "\n",
    "## RESUMO DAS FUNÇÕES\n",
    "\n",
    "### requisicaoDeDados()\n",
    "    Irá usar o webdriver do Selenium para acessar o site do inmet em busca do anos de dados históricos pela tag 'article' de classe 'post-preview', itera e organiza os valores recebidos p/ retornar um dicionário onde a chave é o ano (ANO 2000 (AUTOMÁTICA)) e o valor o link para o arquivo(https://portal.inmet.gov.br/uploads/dadoshistoricos/2000.zip) .zip. \n",
    "\n",
    "\n",
    "## downloadDataFrame()  \n",
    "    Recebe por parâmetro a URL do arquivo .ZIP do ano que foi selecionada, usar o request para a requisição e baixar o arquivo, e verifica ou senão cria uma pasta 'datasets/Nome do ano selecionado' para armazena-lo. Em seguida descompacta o arquivo, deleta o arquivo .zip e retorna um dicionário onde a chave é o nome formatado da cidade(Ilhéus) e o valor o caminho absoluto do arquivo.\n",
    "\n",
    "## CalcTempMediaCSV()\n",
    "\n",
    "## CalcMediaPreciptacaoCSV()\n",
    "    Recebe o caminho da arquivo .CSV; ler; trata os dados ausente ou valor inválido (-9999); cria um dataframe do tipo Datetime pela coluna 'DATA (YYYY-MM-DD)', agrupa por mês e calcula a média da temperatura máxima. Ao final retorna uma Serie com mês e média da temperatura (10, 25.5) \n",
    "\n",
    "## telaError()\n",
    "    Cria uma janela Tk Inter com um Frame contendo uma mensagem de erro caso  a função 'requisicaoDeDados' não retorne dados.\n",
    "\n",
    "## widget_lista_estacoes()  \n",
    "    Recebe o container de onde será executado e o dicionário de estações; criar um widget Listbox() para listar as estações e ao selecionar uma estação irá chamar as funções CalcTempMediaCSV() e CalcMediaPreciptacaoCSV(), caso elas retornem dados, os repassa para os widgets que irão  gerar os gráficos widget_grafico_temperatura e widget_grafico_precipitação.\n",
    "\n",
    "## widget_Label_AnoSelecionado()\n",
    "    Recebe por parâmetro o ano selecionado e o container de onde será executado; cria um widget Label() para exibi-lo na tela.\n",
    "\n",
    "## telaPrincipal()\n",
    "    Recebe por parâmetro o dicionário  passado pela função 'requisicaoDeDados()' com os anos disponíveis, gere o widget Listbox() para lista-los e ao selecionar o ano desejado, executa a função ano_selecionado() que irá chamar as demais funções em cadeia começando pela widget_lista_estacoes()."
   ]
  }
 ],
 "metadata": {
  "kernelspec": {
   "display_name": "Python 3 (ipykernel)",
   "language": "python",
   "name": "python3"
  },
  "language_info": {
   "codemirror_mode": {
    "name": "ipython",
    "version": 3
   },
   "file_extension": ".py",
   "mimetype": "text/x-python",
   "name": "python",
   "nbconvert_exporter": "python",
   "pygments_lexer": "ipython3",
   "version": "3.9.18"
  }
 },
 "nbformat": 4,
 "nbformat_minor": 2
}
