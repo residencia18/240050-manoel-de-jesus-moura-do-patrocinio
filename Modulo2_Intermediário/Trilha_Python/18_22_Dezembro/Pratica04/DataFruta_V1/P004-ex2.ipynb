{
 "cells": [
  {
   "cell_type": "code",
   "execution_count": null,
   "metadata": {},
   "outputs": [],
   "source": [
    "\n",
    " Tradicional\n",
    "\n",
    "    As operações para encontrar o maior, menor, mediana superior e mediana inferior seguiam uma abordagem tradicional,\n",
    "    resultando em tempos de execução proporcionais ao tamanho dos conjuntos de dados.\n",
    "\n",
    " NUMPY\n",
    "\n",
    "    A utilização do NumPy nessas operações mostrou vantagens, especialmente em termos de eficiência para grandes conjuntos de dados. \n",
    "    As funções do NumPy otimizam essas operações, contribuindo para um desempenho mais rápido."
   ]
  }
 ],
 "metadata": {
  "language_info": {
   "name": "python"
  }
 },
 "nbformat": 4,
 "nbformat_minor": 2
}
