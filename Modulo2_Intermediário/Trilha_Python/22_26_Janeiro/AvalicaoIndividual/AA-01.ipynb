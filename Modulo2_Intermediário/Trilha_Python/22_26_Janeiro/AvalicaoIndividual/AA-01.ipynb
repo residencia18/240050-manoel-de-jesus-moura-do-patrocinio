{
 "cells": [
  {
   "cell_type": "markdown",
   "metadata": {},
   "source": [
    "# Primeira Avaliação Parcial: Avaliação Individual\n",
    "\n",
    "Neste módulo trabalhamos com os recursos da __NumPy__ para processar dados de tipo único de forma eficiente. Um exemplo deste tipo de dados são as imagens que podemos ser armazenadas como _ndarrays_ __NumPy__. O código a seguir gera uma imagem colorida, de 1000 por 1000 _pixels_, armazenada no formato __RGB__. Isto significa que, de cada _pixel_ armazenamos a intensidade de cor nos canais __R__ (_red_ ou vermelho), __G__ (green ou verde) e __B__ (blue o azul).  A intensidade da cor é dada por um inteiro de 8 _bits_ sem sinal."
   ]
  },
  {
   "cell_type": "code",
   "execution_count": 56,
   "metadata": {},
   "outputs": [
    {
     "name": "stdout",
     "output_type": "stream",
     "text": [
      "1.21.5\n"
     ]
    }
   ],
   "source": [
    "# importado a biblioteca numpy\n",
    "import numpy as np\n",
    "print(np.__version__)"
   ]
  },
  {
   "cell_type": "code",
   "execution_count": 57,
   "metadata": {},
   "outputs": [],
   "source": [
    "# Definindo a altura e a largura da imagem\n",
    "height = 1000  # altura ou o número de linhas da imagem\n",
    "width = 1000   # largura ou o número de colunas da imagem"
   ]
  },
  {
   "cell_type": "code",
   "execution_count": 58,
   "metadata": {},
   "outputs": [
    {
     "name": "stdout",
     "output_type": "stream",
     "text": [
      "Veja o forma da matriz criada: (1000, 1000, 3)\n",
      "Veja como fica a cor de um pixel: [ 72 229 137] ...\n",
      "Ou a componente vermelha dos 3 primeiro pixels da segunda linha: [228   8  37] ...\n",
      "Ou a componente verde dos 3 últimos pixels da segunda coluna: [ 95 143 203] ...\n",
      "[[[ 72 229 137]\n",
      "  [ 88 154  25]\n",
      "  [ 36  13 164]\n",
      "  ...\n",
      "  [ 52 253  11]\n",
      "  [175 168 218]\n",
      "  [ 74 240  62]]\n",
      "\n",
      " [[228 134 183]\n",
      "  [  8  22 149]\n",
      "  [ 37  50  95]\n",
      "  ...\n",
      "  [ 22  22  95]\n",
      "  [128 143 158]\n",
      "  [ 11   1 193]]\n",
      "\n",
      " [[214  99 255]\n",
      "  [110 203  23]\n",
      "  [180  29 218]\n",
      "  ...\n",
      "  [196   9 149]\n",
      "  [194  73  83]\n",
      "  [175   1 161]]\n",
      "\n",
      " ...\n",
      "\n",
      " [[119  64 160]\n",
      "  [ 27  95 109]\n",
      "  [110 170  72]\n",
      "  ...\n",
      "  [ 89  56  91]\n",
      "  [ 31  93 111]\n",
      "  [ 90   4 139]]\n",
      "\n",
      " [[150 163  57]\n",
      "  [114 143 250]\n",
      "  [173  66  54]\n",
      "  ...\n",
      "  [134 109 127]\n",
      "  [206  94  57]\n",
      "  [170 177  53]]\n",
      "\n",
      " [[147  88 212]\n",
      "  [178 203 132]\n",
      "  [248 214 151]\n",
      "  ...\n",
      "  [237  96 207]\n",
      "  [ 97 126 149]\n",
      "  [111 133 167]]]\n"
     ]
    }
   ],
   "source": [
    "# gerando uma imagem aleatória de 1000 x 1000 pixels\n",
    "random_image = np.random.randint(0, 256, size=(height, width, 3), dtype=np.uint8)\n",
    "print(\"Veja o forma da matriz criada: {}\".format(random_image.shape))\n",
    "print(\"Veja como fica a cor de um pixel: {} ...\".format(random_image[0, 0]))\n",
    "print(\"Ou a componente vermelha dos 3 primeiro pixels da segunda linha: {} ...\".format(random_image[1, 0:3, 0]))\n",
    "print(\"Ou a componente verde dos 3 últimos pixels da segunda coluna: {} ...\".format(random_image[-3:, 1, 1]))\n",
    "\n",
    "print(random_image)"
   ]
  },
  {
   "cell_type": "markdown",
   "metadata": {},
   "source": [
    "## Exercício 1\n",
    "\n",
    "Crie uma função para a qual passamos como parâmetros a altura e a largura e retorna uma imagem, gerada de forma aleatória, em formato __RGB__, com estas dimensões. A imagem deve ser representada utilizando um _ndarray_ como o do exemplo anterior. Se a altura ou a largura não forme passadas como a imagem deve ser gerada com 720 linhas e 1280 colunas. "
   ]
  },
  {
   "cell_type": "code",
   "execution_count": 59,
   "metadata": {},
   "outputs": [],
   "source": [
    "# Implementar aqui\n",
    "def geradorImagens(ImgHeight= 720,imgWidth = 1280):\n",
    "    random_image = np.random.randint(0, 256, size=(ImgHeight, imgWidth, 3), dtype=np.uint8)\n",
    "    return random_image\n"
   ]
  },
  {
   "cell_type": "code",
   "execution_count": 60,
   "metadata": {},
   "outputs": [
    {
     "name": "stdout",
     "output_type": "stream",
     "text": [
      "(720, 1280, 3)\n",
      "(10, 1280, 3)\n",
      "(10, 10, 3)\n",
      "[[[235 151 118]\n",
      "  [  9  64 136]\n",
      "  [157  43 230]\n",
      "  [237 123 135]\n",
      "  [ 21  44  32]]\n",
      "\n",
      " [[187 224 195]\n",
      "  [202 115  63]\n",
      "  [ 11 181 227]\n",
      "  [143 126  87]\n",
      "  [ 61  94 162]]\n",
      "\n",
      " [[154  18 229]\n",
      "  [142  73 104]\n",
      "  [124   3 195]\n",
      "  [ 30 131 190]\n",
      "  [166 203 188]]\n",
      "\n",
      " [[207  15 101]\n",
      "  [149 139   5]\n",
      "  [132 247 115]\n",
      "  [ 61 215 202]\n",
      "  [ 26  30  62]]\n",
      "\n",
      " [[231 112 155]\n",
      "  [110   5 182]\n",
      "  [236  22   6]\n",
      "  [184 162 212]\n",
      "  [218 127  86]]]\n"
     ]
    }
   ],
   "source": [
    "#teste\n",
    "print(geradorImagens().shape) # deve retornar (720, 1280, 3)\n",
    "print(geradorImagens(10,1280).shape) # deve retornar (10, 1280, 3)\n",
    "print(geradorImagens(10,10).shape) # deve retornar (10, 10, 3)\n",
    "print(geradorImagens(5,5)) # deve retornar uma matriz 5x5x3"
   ]
  },
  {
   "cell_type": "markdown",
   "metadata": {},
   "source": [
    "Para simplificar o tratamento durante o processamento das imagens, frequentemente elas são convertidas e imagens em tons de cinza. Estas imagens contem, para cada pixel, uma única intensidade de cor representada como um inteiro de 8 _bits_ sem sinal. Para converter uma imagem __RGB__ em uma imagem em tons de cinza podemos utilizar dois métodos diferentes. \n",
    "\n",
    "1. Calculamos a intensidade da cor de cada _pixel_ como a média das intensidades dos canais __RGB_\n",
    "2. Os valores __RGB__ são convertidos para tons de cinza usando a fórmula __NTSC__: $ 0.299 \\times \\text{Vermelho} + 0.587 \\times \\text{Verde} + 0.114 \\times \\text{Azul} $. Esta fórmula representa de perto a percepção relativa da pessoa média sobre o brilho da luz vermelha, verde e azul."
   ]
  },
  {
   "cell_type": "markdown",
   "metadata": {},
   "source": [
    "## Exercício 2\n",
    "\n",
    "Crie uma função que recebe uma imagem __RGB__ e converte a mesma em tons de cinza. A função deve retornar então a nova imagem. Esta função. \n",
    "* Deve verificar se o argumento de entrada é de fato uma imagem __RGB__ com base no tipo e no atributo ``shape`` do _ndarray_. Casso o argumento esteja errado deve-se lançar uma exceção.\n",
    "* A função recebe como parâmetro de entrada a forma de conversão a ser utilizada: media dos canais ou __NTSC__. Por padrão o algoritmo de utilizado deve ser o __NTSC__.\n",
    "* A função deve utilizas as _ufunc_ e operações definidas na __NumPy_ de forma a minimizar o uso de laços no processamento dos _ndarrays_.  "
   ]
  },
  {
   "cell_type": "code",
   "execution_count": 61,
   "metadata": {},
   "outputs": [
    {
     "name": "stdout",
     "output_type": "stream",
     "text": [
      "Imagem original\n",
      "\n",
      "[[[131 156 248]\n",
      "  [120 162 181]\n",
      "  [247 191  26]\n",
      "  ...\n",
      "  [170 144 228]\n",
      "  [ 47  94 210]\n",
      "  [ 74   9  95]]\n",
      "\n",
      " [[129  14 125]\n",
      "  [ 84 155 139]\n",
      "  [224  22 125]\n",
      "  ...\n",
      "  [183 127  93]\n",
      "  [113 231 153]\n",
      "  [ 67 161   7]]\n",
      "\n",
      " [[255 199 176]\n",
      "  [111 135  20]\n",
      "  [150   6  99]\n",
      "  ...\n",
      "  [161  91 208]\n",
      "  [213 157 240]\n",
      "  [ 13 183 135]]\n",
      "\n",
      " ...\n",
      "\n",
      " [[193 149  79]\n",
      "  [ 30 147 195]\n",
      "  [118 187 255]\n",
      "  ...\n",
      "  [ 92  99   0]\n",
      "  [199 177  44]\n",
      "  [200 128  88]]\n",
      "\n",
      " [[149 173 151]\n",
      "  [ 89   7 134]\n",
      "  [ 50 215 235]\n",
      "  ...\n",
      "  [175 191 123]\n",
      "  [ 75 134   4]\n",
      "  [153  18 245]]\n",
      "\n",
      " [[ 66 131 124]\n",
      "  [ 65  83 184]\n",
      "  [201  81 116]\n",
      "  ...\n",
      "  [ 91 248 164]\n",
      "  [146  37  16]\n",
      "  [ 44  71  21]]]\n",
      "Imagem modificado p/ tons de cinza \n",
      "\n",
      "(720, 1280)\n"
     ]
    }
   ],
   "source": [
    "#implementar aqui\n",
    "def rgb2gray(imagem, metConversao='NTSC'):\n",
    "    \n",
    "    # verifico se a imagem veio em ndarray e com 3 dimensões (RGB)\n",
    "    if not isinstance(imagem, np.ndarray) or imagem.ndim != 3 or imagem.shape[2] != 3:\n",
    "        raise ValueError(\"O parametro informado não é compatível a uma imagem RGB.\")\n",
    "\n",
    "    # converte usando a o método de Media ou NTSC\n",
    "    if metConversao == 'media':\n",
    "        # axis: eixo 2 ou canais, uint8: do tipo inteiro 8 bits \n",
    "        imagem_cinza = np.mean(imagem, axis=2, dtype=np.uint8)\n",
    "    elif metConversao == 'NTSC':\n",
    "        ntsc_coefs = np.array([0.299, 0.587, 0.114])\n",
    "        # np.dot: multiplicação de matrizes ou produtos internos (produtos escalar ou ponto) entre vetores, neste caso entre o ndarray e o ntsc_coefs\n",
    "        imagem_cinza = np.dot(imagem, ntsc_coefs)\n",
    "        #  converte os valores resultantes para uint8\n",
    "        imagem_cinza = imagem_cinza.astype(np.uint8)\n",
    "    else:\n",
    "        raise ValueError(\"Método de conversão inválido. Escolha 'media' ou 'NTSC'.\")\n",
    "\n",
    "    return imagem_cinza\n",
    "\n",
    "\n",
    "imagemExemplo = geradorImagens()\n",
    "print(\"Imagem original\\n\")\n",
    "print(imagemExemplo)\n",
    "\n",
    "imagemEmGray = rgb2gray(imagemExemplo)\n",
    "print(\"Imagem modificado p/ tons de cinza \\n\")\n",
    "print(imagemEmGray)"
   ]
  },
  {
   "cell_type": "markdown",
   "metadata": {},
   "source": [
    "# Exercício 3 (Opcional, valendo ponto extra)\n",
    "\n",
    "Refaça a implementação da função anterior utilizando estruturas de repetição e implemente um teste de demonstre, usando uma imagem __RGB__ gerada de forma aleatória de 10.000 linhas por 10.000 colunas, o ganho de desempenho quando utilizamos as _ufunc_ e os operadores de __NumPy__. "
   ]
  },
  {
   "cell_type": "code",
   "execution_count": null,
   "metadata": {},
   "outputs": [],
   "source": [
    "def rgb2grayComLacos(imagem, metodo_conversao='NTSC'):\n",
    "    \n",
    "    if not isinstance(imagem, np.ndarray) or imagem.ndim != 3 or imagem.shape[2] != 3:\n",
    "        raise ValueError(\"O parametro informado não é compatível a uma imagem RGB.\")\n",
    "\n",
    "    altura, largura, _ = imagem.shape\n",
    "    imagem_cinza = np.empty((altura, largura), dtype=np.uint8)\n",
    "\n",
    "    if metodo_conversao == 'media':\n",
    "        for i in range(altura):\n",
    "            for j in range(largura):\n",
    "                imagem_cinza[i, j] = np.mean(imagem[i, j, :]).astype(np.uint8)\n",
    "    elif metodo_conversao == 'NTSC':\n",
    "        ntsc_coefs = np.array([0.299, 0.587, 0.114])\n",
    "        for i in range(altura):\n",
    "            for j in range(largura):\n",
    "                imagem_cinza[i, j] = np.dot(imagem[i, j, :], ntsc_coefs).astype(np.uint8)\n",
    "    else:\n",
    "        raise ValueError(\"Método de conversão inválido. Escolha 'media' ou 'NTSC'.\")\n",
    "\n",
    "    return imagem_cinza\n"
   ]
  },
  {
   "cell_type": "markdown",
   "metadata": {},
   "source": [
    "## Respostas\n",
    "Faça suas implementações neste notebook e envie  mesmo via __Moodle__ até o final do prazo. "
   ]
  }
 ],
 "metadata": {
  "kernelspec": {
   "display_name": "Python 3 (ipykernel)",
   "language": "python",
   "name": "python3"
  },
  "language_info": {
   "codemirror_mode": {
    "name": "ipython",
    "version": 3
   },
   "file_extension": ".py",
   "mimetype": "text/x-python",
   "name": "python",
   "nbconvert_exporter": "python",
   "pygments_lexer": "ipython3",
   "version": "3.9.12"
  }
 },
 "nbformat": 4,
 "nbformat_minor": 2
}
