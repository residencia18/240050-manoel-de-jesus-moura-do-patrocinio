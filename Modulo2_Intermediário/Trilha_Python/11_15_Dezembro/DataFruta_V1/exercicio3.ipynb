{
 "cells": [
  {
   "cell_type": "code",
   "execution_count": null,
   "metadata": {},
   "outputs": [],
   "source": [
    "\n",
    "\n",
    "import numpy as np\n",
    "import random\n",
    "\n",
    "class ListaSalarios:\n",
    "    \n",
    "\n",
    "    @classmethod\n",
    "    def geraListaSalario(cls, quantElementos, salarioMinimo=None, salarioMaximo=None):\n",
    "        novaLista = []\n",
    "\n",
    "        if salarioMinimo is None or salarioMaximo is None:\n",
    "            salarioMinimo = 1320\n",
    "            salarioMaximo = 13200\n",
    "\n",
    "        for i in range(quantElementos):\n",
    "            while True:\n",
    "                try:\n",
    "                    elemento = random.uniform(salarioMinimo, salarioMaximo)\n",
    "                    novaLista.append(elemento)\n",
    "                    break\n",
    "                except ValueError:\n",
    "                    print(\"\\n\\tOps, entrada inválida! Por favor, digite um número válido.\")\n",
    "                    pause()\n",
    "                    limpaTela()\n",
    "        return novaLista\n",
    "\n",
    "    @classmethod\n",
    "    def geraListaSalarioNumpy(cls, quantElementos, salarioMinimo=None, salarioMaximo=None):\n",
    "        arraySalarios_aleatorio = []\n",
    "\n",
    "        if salarioMinimo is None or salarioMaximo is None:\n",
    "            salarioMinimo = 1320\n",
    "            salarioMaximo = 13200\n",
    "\n",
    "        try:\n",
    "            arraySalarios_aleatorio = np.random.uniform(salarioMinimo, salarioMaximo + 1, quantElementos)\n",
    "        except ValueError as e:\n",
    "            print(\"\\n\\tOps, foi gerado um salário inválido!\\n\\t\")\n",
    "            pause()\n",
    "            limpaTela()\n",
    "\n",
    "        return np.array(arraySalarios_aleatorio)\n"
   ]
  },
  {
   "cell_type": "markdown",
   "metadata": {},
   "source": [
    "\n",
    "# Vantagens de Utilizar NumPy (ndarray):\n",
    "\n",
    "    Desempenho Otimizado:\n",
    "        NumPy é implementado em C e otimizado para operações numéricas, oferecendo melhor desempenho do que listas para grandes conjuntos de dados.\n",
    "\n",
    "    Sintaxe Clara para Operações Vetorizadas:\n",
    "        NumPy suporta operações vetorizadas, eliminando a necessidade de loops explícitos e proporcionando uma sintaxe mais clara e concisa.\n",
    "\n",
    "    Funcionalidades de Álgebra Linear:\n",
    "        NumPy fornece funcionalidades avançadas para operações de álgebra linear, o que pode ser essencial para algumas análises.\n",
    "\n",
    "    Uso Eficiente de Memória:\n",
    "        NumPy é eficiente em termos de uso de memória para armazenar e manipular grandes conjuntos de dados numérico"
   ]
  },
  {
   "cell_type": "markdown",
   "metadata": {},
   "source": [
    "# Desvantagens de Utilizar NumPy (ndarray):\n",
    "\n",
    "    Complexidade para Tarefas Simples:\n",
    "        NumPy pode ser excessivo para tarefas simples que não envolvem operações numéricas complexas. Listas podem ser mais simples de usar.\n",
    "\n",
    "    Tamanho Fixo do ndarray:\n",
    "        ndarrays têm tamanho fixo e não podem ser redimensionados após a criação. Isso pode ser uma limitação em certas situações."
   ]
  },
  {
   "cell_type": "markdown",
   "metadata": {},
   "source": [
    "# Exemplos :\n",
    "\n",
    "## Geração de lista com NumPy\n",
    "salarios_numpy = ListaSalarios.geraListaSalarioNumpy(10, salarioMinimo=1500, salarioMaximo=8000)\n",
    "print(\"Lista de Salários (NumPy):\", salarios_numpy)\n",
    "\n",
    "### Geração de lista com Python padrão\n",
    "salarios_lista = ListaSalarios.geraListaSalario(10, salarioMinimo=1500, salarioMaximo=8000)\n",
    "print(\"Lista de Salários (Lista Python):\", salarios_lista)\n"
   ]
  }
 ],
 "metadata": {
  "language_info": {
   "name": "python"
  }
 },
 "nbformat": 4,
 "nbformat_minor": 2
}
